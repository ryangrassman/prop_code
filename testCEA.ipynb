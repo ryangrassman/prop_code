{
 "cells": [
  {
   "cell_type": "markdown",
   "metadata": {},
   "source": [
    "# CEA Learning"
   ]
  },
  {
   "cell_type": "markdown",
   "metadata": {},
   "source": [
    "## Setup Part #1: Imports Needed"
   ]
  },
  {
   "cell_type": "code",
   "execution_count": 25,
   "metadata": {},
   "outputs": [],
   "source": [
    "from rocketcea.cea_obj_w_units import CEA_Obj\n",
    "import numpy as np"
   ]
  },
  {
   "cell_type": "markdown",
   "metadata": {},
   "source": [
    "## Setup Part #2: Units"
   ]
  },
  {
   "cell_type": "markdown",
   "metadata": {},
   "source": [
    "SpaceX uses metric units so we will also use metric units."
   ]
  },
  {
   "cell_type": "markdown",
   "metadata": {},
   "source": [
    "### Options"
   ]
  },
  {
   "cell_type": "markdown",
   "metadata": {},
   "source": [
    "| **Parameter**            | **Default Unit**     | **Alternative Units**                                                            |\n",
    "|--------------------------|----------------------|----------------------------------------------------------------------------------|\n",
    "| `isp_units`              | `'sec'`              | `'N-s/kg'`, `'m/s'`, `'km/s'`                                                    |\n",
    "| `cstar_units`            | `'ft/sec'`           | `'m/s'`                                                                         |\n",
    "| `pressure_units`         | `'psia'`             | `'MPa'`, `'KPa'`, `'Pa'`, `'Bar'`, `'Atm'`, `'Torr'`                             |\n",
    "| `temperature_units`      | `'degR'`             | `'K'`, `'C'`, `'F'`                                                              |\n",
    "| `sonic_velocity_units`   | `'ft/sec'`           | `'m/s'`                                                                         |\n",
    "| `enthalpy_units`         | `'BTU/lbm'`          | `'J/g'`, `'kJ/kg'`, `'J/kg'`, `'kcal/kg'`, `'cal/g'`                             |\n",
    "| `density_units`          | `'lbm/cuft'`         | `'g/cc'`, `'sg'`, `'kg/m^3'`                                                      |\n",
    "| `specific_heat_units`    | `'BTU/lbm degR'`     | `'kJ/kg-K'`, `'cal/g-C'`, `'J/kg-K'`                                             |\n",
    "| `viscosity_units`        | `'millipoise'`       | `'lbf-sec/sqin'`, `'lbf-sec/sqft'`, `'lbm/ft-sec'`, `'poise'`, `'centipoise'`    |\n",
    "| `thermal_cond_units`     | `'mcal/cm-K-s'`      | `'millical/cm-degK-sec'`, `'BTU/hr-ft-degF'`, `'BTU/s-in-degF'`, `'cal/s-cm-degC'`, `'W/cm-degC'` |\n"
   ]
  },
  {
   "cell_type": "markdown",
   "metadata": {},
   "source": [
    "*Note from documentation*\\\n",
    "If the units you desire are not shown above, your units may be added by importing add_user_units from rocketcea.units and calling it prior to creating CEA_Obj. For example MPa was added with the line"
   ]
  },
  {
   "cell_type": "markdown",
   "metadata": {},
   "source": [
    "### Code"
   ]
  },
  {
   "cell_type": "markdown",
   "metadata": {},
   "source": [
    "#### Config Choice"
   ]
  },
  {
   "cell_type": "markdown",
   "metadata": {},
   "source": [
    "Current Options: `'SpaceX'`, `'Engrish'`"
   ]
  },
  {
   "cell_type": "code",
   "execution_count": null,
   "metadata": {},
   "outputs": [],
   "source": [
    "# Define unit config\n",
    "unit_config = 'SpaceX'"
   ]
  },
  {
   "cell_type": "markdown",
   "metadata": {},
   "source": [
    "#### Config Code"
   ]
  },
  {
   "cell_type": "code",
   "execution_count": null,
   "metadata": {},
   "outputs": [],
   "source": [
    "#Unit condig options\n",
    "if unit_config == 'SpaceX':\n",
    "    Isp_units_input            = 'sec'\n",
    "    cstar_units_input          = 'm/s'\n",
    "    pressure_units_input       = 'Bar'\n",
    "    temperature_units_input    = 'K'\n",
    "    sonic_velocity_units_input = 'm/s'\n",
    "    enthalpy_units_input       = 'kJ/kg'\n",
    "    density_units_input        = 'kg/m^3'\n",
    "    specific_heat_units_input  = 'J/kg-K'\n",
    "    viscosity_units_input      = 'poise'\n",
    "    thermal_cond_units_input   = 'mcal/cm-K-s'\n",
    "elif unit_config == 'Engrish':\n",
    "    isp_units_input            = 'sec'\n",
    "    cstar_units_input          = 'ft/sec'\n",
    "    pressure_units_input       = 'psia'\n",
    "    temperature_units_input    = 'degR'\n",
    "    sonic_velocity_units_input = 'ft/sec'\n",
    "    enthalpy_units_input       = 'BTU/lbm'\n",
    "    density_units_input        = 'lbm/cuft'\n",
    "    specific_heat_units_input  = 'BTU/lbm degR'\n",
    "    viscosity_units_input      = 'millipoise'"
   ]
  },
  {
   "cell_type": "markdown",
   "metadata": {},
   "source": [
    "## Step #1: Determine propellants"
   ]
  },
  {
   "cell_type": "markdown",
   "metadata": {},
   "source": [
    "### Options"
   ]
  },
  {
   "cell_type": "markdown",
   "metadata": {},
   "source": [
    "| **Category**     | **Propellant Input String**  | **Description**                                |\n",
    "|------------------|------------------------------|------------------------------------------------|\n",
    "| **Oxidizer**     | `'LOX'`                      | Liquid Oxygen                                  |\n",
    "|                  | `'N2O4'`                     | Nitrogen Tetroxide                             |\n",
    "|                  | `'H2O2'`                     | Hydrogen Peroxide                              |\n",
    "|                  | `'ClF3'`                     | Chlorine Trifluoride                           |\n",
    "|                  | `'F2'`                       | Fluorine                                       |\n",
    "|                  | `'N2O'`                      | Nitrous Oxide                                  |\n",
    "|                  | `'ClF5'`                     | Chlorine Pentafluoride                         |\n",
    "| **Fuel**         | `'CH4'`                      | Methane (Liquid or Gas)                        |\n",
    "|                  | `'RP-1'`                     | Refined Kerosene                               |\n",
    "|                  | `'LH2'`                      | Liquid Hydrogen                                |\n",
    "|                  | `'C2H4'`                     | Ethylene                                       |\n",
    "|                  | `'C3H8'`                     | Propane                                        |\n",
    "|                  | `'UDMH'`                     | Unsymmetrical Dimethylhydrazine                |\n",
    "|                  | `'MMH'`                      | Monomethylhydrazine                            |\n",
    "|                  | `'H2'`                       | Hydrogen (Gas)                                 |\n",
    "| **Monoprop/Solid**| `'Hydrazine'`                | Hydrazine                                      |\n",
    "|                  | `'HTPB'`                     | Hydroxyl-terminated polybutadiene (Solid Fuel) |\n",
    "|                  | `'NH3'`                      | Ammonia                                        |\n",
    "|                  | `'N2H4'`                     | Hydrazine                                      |\n",
    "|                  | `'Hydroxylammonium nitrate'` | HAN-based monopropellant                       |\n",
    "|                  | `'AP'`                       | Ammonium Perchlorate (Solid Oxidizer)          |\n",
    "|                  | `'HTPB/AP'`                  | Solid propellant mixture of HTPB and AP        |\n",
    "|                  | `'Aluminum'`                 | Aluminum (used as a solid fuel in boosters)    |\n"
   ]
  },
  {
   "cell_type": "markdown",
   "metadata": {},
   "source": [
    "### Choice\n",
    "We want to use liquid oxygen and liquid methane.\n",
    "### Rationale\n",
    "The raptor engine uses these propellents"
   ]
  },
  {
   "cell_type": "markdown",
   "metadata": {},
   "source": [
    "### Code"
   ]
  },
  {
   "cell_type": "code",
   "execution_count": 24,
   "metadata": {},
   "outputs": [
    {
     "name": "stdout",
     "output_type": "stream",
     "text": [
      "269.11145277165764\n"
     ]
    }
   ],
   "source": [
    "stringOxName = 'LOX'\n",
    "stringFuelName = 'CH4'"
   ]
  },
  {
   "cell_type": "markdown",
   "metadata": {},
   "source": [
    "## Determine Chamber Pressure: $P_C$"
   ]
  },
  {
   "cell_type": "markdown",
   "metadata": {},
   "source": [
    "### Context"
   ]
  },
  {
   "cell_type": "markdown",
   "metadata": {},
   "source": [
    "From Google:\\\n",
    "The chamber pressure of a SpaceX Raptor engine varies depending on the version of the engine and the test conditions:\n",
    "* Raptor 1: The first version of the Raptor engine was designed to operate at a chamber pressure of 250 bars (3,600 psi). \n",
    "* Raptor 2: The current version of the Raptor engine has a chamber pressure of 300 bars (4,350 psi). This is the highest chamber pressure of any rocket engine ever. \n",
    "* Raptor 3: In May 2023, SpaceX successfully tested the Raptor 3 engine at a chamber pressure of 350 bar (5,100 psi) for 45 seconds.\\\n",
    "\\\n",
    "A higher chamber pressure in a rocket engine can lead to more thrust and efficiency. It can also allow for a smaller engine for a given level of thrust, which improves the engine's thrust-to-weight ratio. "
   ]
  },
  {
   "cell_type": "markdown",
   "metadata": {},
   "source": [
    "### Code"
   ]
  },
  {
   "cell_type": "markdown",
   "metadata": {},
   "source": [
    "#### Choices"
   ]
  },
  {
   "cell_type": "code",
   "execution_count": null,
   "metadata": {},
   "outputs": [],
   "source": [
    "chamber_pressure_units = 'Bar'\n",
    "chamber_pressure_max = 350\n",
    "chamber_pressure_min = 250\n",
    "chamber_pressure_interval = 10"
   ]
  },
  {
   "cell_type": "markdown",
   "metadata": {},
   "source": [
    "#### Validate Units are correct for chosen unit configuration"
   ]
  },
  {
   "cell_type": "code",
   "execution_count": null,
   "metadata": {},
   "outputs": [],
   "source": [
    "if chamber_pressure_units == pressure_units:\n",
    "    print('Units are CORRECt for chamber pressure, congradufuckinglations you didnt have a retard moment')\n",
    "else:\n",
    "    print('You are retarded, go fix your units for chamber pressure')\n",
    "    exit() # Eventually implement actual arror codes using sys.exit"
   ]
  },
  {
   "cell_type": "markdown",
   "metadata": {},
   "source": [
    "## Determine O/F Ratio"
   ]
  },
  {
   "cell_type": "markdown",
   "metadata": {},
   "source": []
  },
  {
   "cell_type": "code",
   "execution_count": null,
   "metadata": {},
   "outputs": [],
   "source": []
  },
  {
   "cell_type": "markdown",
   "metadata": {},
   "source": [
    "## Run CEA"
   ]
  },
  {
   "cell_type": "code",
   "execution_count": null,
   "metadata": {},
   "outputs": [],
   "source": [
    "C=CEA_Obj(\n",
    "    oxName               = stringOxName,\n",
    "    fuelName             = stringFuelName,\n",
    "    isp_units            = isp_units_input,\n",
    "    cstar_units          = cstar_units_input,\n",
    "    pressure_units       = pressure_units_input,\n",
    "    temperature_units    = temperature_units_input,\n",
    "    sonic_velocity_units = sonic_velocity_units_input,\n",
    "    enthalpy_units       = enthalpy_units_input,\n",
    "    density_units        = density_units_input,\n",
    "    specific_heat_units  = specific_heat_units_input,\n",
    "    viscosity_units      = viscosity_units_input,\n",
    "    thermal_cond_units   = thermal_cond_units_input\n",
    "                  )"
   ]
  }
 ],
 "metadata": {
  "kernelspec": {
   "display_name": "propCodeEnv",
   "language": "python",
   "name": "python3"
  },
  "language_info": {
   "codemirror_mode": {
    "name": "ipython",
    "version": 3
   },
   "file_extension": ".py",
   "mimetype": "text/x-python",
   "name": "python",
   "nbconvert_exporter": "python",
   "pygments_lexer": "ipython3",
   "version": "3.12.7"
  }
 },
 "nbformat": 4,
 "nbformat_minor": 2
}
