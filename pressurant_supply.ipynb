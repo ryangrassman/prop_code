{
 "cells": [
  {
   "cell_type": "markdown",
   "metadata": {},
   "source": [
    "# Pressurant Supply"
   ]
  },
  {
   "cell_type": "markdown",
   "metadata": {},
   "source": [
    "## Description"
   ]
  },
  {
   "cell_type": "markdown",
   "metadata": {},
   "source": [
    "Our supply will be manifolded 6 packs of K-Bottles of gaseous nitrogen."
   ]
  },
  {
   "cell_type": "markdown",
   "metadata": {},
   "source": [
    "## Initialization"
   ]
  },
  {
   "cell_type": "code",
   "execution_count": null,
   "metadata": {},
   "outputs": [],
   "source": [
    "class pressurant_supply:\n",
    "    def __init__(self, pressure, volume, gas_constant, temperature):\n",
    "        self.pressure = pressure  # Initial pressure in the supply tank (Pascals)\n",
    "        self.volume = volume  # Volume of the supply tank (cubic meters)\n",
    "        self.gas_constant = gas_constant  # Specific gas constant (J/kg·K)\n",
    "        self.temperature = temperature  # Temperature of the gas (Kelvin)\n",
    "    \n",
    "    def get_mass_flow_rate(self, P_tank, A_valve, C_d):\n",
    "        \"\"\"\n",
    "        Calculate the mass flow rate through the valve (assuming choked flow).\n",
    "        \"\"\"\n",
    "        if P_tank < self.pressure:  # Gas flows only if the tank pressure is lower\n",
    "            delta_P = self.pressure - P_tank\n",
    "            rho = self.pressure / (self.gas_constant * self.temperature)  # Density of gas\n",
    "            return C_d * A_valve * ((2 * rho * delta_P) ** 0.5)  # Mass flow rate (kg/s)\n",
    "        else:\n",
    "            return 0  # No flow if tank pressure is higher than the supply pressure\n"
   ]
  }
 ],
 "metadata": {
  "kernelspec": {
   "display_name": "propCodeEnv",
   "language": "python",
   "name": "python3"
  },
  "language_info": {
   "name": "python",
   "version": "3.12.7"
  }
 },
 "nbformat": 4,
 "nbformat_minor": 2
}
